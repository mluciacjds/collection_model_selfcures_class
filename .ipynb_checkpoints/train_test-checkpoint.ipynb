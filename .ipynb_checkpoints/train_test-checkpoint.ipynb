{
 "cells": [
  {
   "cell_type": "code",
   "execution_count": 1,
   "metadata": {},
   "outputs": [
    {
     "data": {
      "text/html": [
       "<style scoped>\n",
       "  .ansiout {\n",
       "    display: block;\n",
       "    unicode-bidi: embed;\n",
       "    white-space: pre-wrap;\n",
       "    word-wrap: break-word;\n",
       "    word-break: break-all;\n",
       "    font-family: \"Source Code Pro\", \"Menlo\", monospace;;\n",
       "    font-size: 13px;\n",
       "    color: #555;\n",
       "    margin-left: 4px;\n",
       "    line-height: 19px;\n",
       "  }\n",
       "</style>\n",
       "<div class=\"ansiout\"></div>"
      ]
     },
     "metadata": {},
     "output_type": "display_data"
    }
   ],
   "source": [
    "from pyspark.sql.window import Window\n",
    "from pyspark.sql.types import LongType \n",
    "from pyspark.sql.types import *\n",
    "from pyspark.sql.functions import *\n",
    "from pyspark.sql.functions import countDistinct, row_number\n",
    "from pyspark.sql import SQLContext, HiveContext\n",
    "from dateutil.relativedelta import relativedelta\n",
    "from datetime import datetime, timedelta\n",
    "from pyspark.sql.functions import udf\n",
    "from pyspark.sql.types import DateType\n"
   ]
  },
  {
   "cell_type": "code",
   "execution_count": 2,
   "metadata": {},
   "outputs": [
    {
     "data": {
      "text/html": [
       "<style scoped>\n",
       "  .ansiout {\n",
       "    display: block;\n",
       "    unicode-bidi: embed;\n",
       "    white-space: pre-wrap;\n",
       "    word-wrap: break-word;\n",
       "    word-break: break-all;\n",
       "    font-family: \"Source Code Pro\", \"Menlo\", monospace;;\n",
       "    font-size: 13px;\n",
       "    color: #555;\n",
       "    margin-left: 4px;\n",
       "    line-height: 19px;\n",
       "  }\n",
       "</style>\n",
       "<div class=\"ansiout\"></div>"
      ]
     },
     "metadata": {},
     "output_type": "display_data"
    }
   ],
   "source": [
    "dbutils.widgets.text(\"idunidade_operacional\", \"3\")\n",
    "dbutils.widgets.text(\"idcidade\", \"3\")\n",
    "dbutils.widgets.text(\"periodo_inicial\", \"2019-01-01\")\n",
    "dbutils.widgets.text(\"periodo_final\", \"2019-04-30\")\n",
    "dbutils.widgets.dropdown(\"t_objetivo\", \"treinamento\", [\"treinamento\", \"predicao\"])\n",
    "dbutils.widgets.dropdown(\"target_modelo\", \"modelo_selfcures\", [\"modelo_selfcures\"])"
   ]
  },
  {
   "cell_type": "code",
   "execution_count": 3,
   "metadata": {},
   "outputs": [
    {
     "data": {
      "text/html": [
       "<style scoped>\n",
       "  .ansiout {\n",
       "    display: block;\n",
       "    unicode-bidi: embed;\n",
       "    white-space: pre-wrap;\n",
       "    word-wrap: break-word;\n",
       "    word-break: break-all;\n",
       "    font-family: \"Source Code Pro\", \"Menlo\", monospace;;\n",
       "    font-size: 13px;\n",
       "    color: #555;\n",
       "    margin-left: 4px;\n",
       "    line-height: 19px;\n",
       "  }\n",
       "</style>\n",
       "<div class=\"ansiout\"></div>"
      ]
     },
     "metadata": {},
     "output_type": "display_data"
    }
   ],
   "source": [
    "unidade_operacional = dbutils.widgets.get(\"idunidade_operacional\") \n",
    "cidade = dbutils.widgets.get(\"idcidade\") \n",
    "periodo_inicial = dbutils.widgets.get(\"periodo_inicial\")\n",
    "periodo_final = dbutils.widgets.get(\"periodo_final\")\n",
    "objetivo = dbutils.widgets.get(\"t_objetivo\")\n",
    "modelo = dbutils.widgets.get(\"target_modelo\")"
   ]
  },
  {
   "cell_type": "markdown",
   "metadata": {},
   "source": [
    "## Gerando Bases de Faturas, Processos e cadastros"
   ]
  },
  {
   "cell_type": "code",
   "execution_count": 5,
   "metadata": {},
   "outputs": [
    {
     "data": {
      "text/html": [
       "<style scoped>\n",
       "  .ansiout {\n",
       "    display: block;\n",
       "    unicode-bidi: embed;\n",
       "    white-space: pre-wrap;\n",
       "    word-wrap: break-word;\n",
       "    word-break: break-all;\n",
       "    font-family: \"Source Code Pro\", \"Menlo\", monospace;;\n",
       "    font-size: 13px;\n",
       "    color: #555;\n",
       "    margin-left: 4px;\n",
       "    line-height: 19px;\n",
       "  }\n",
       "</style>\n",
       "<div class=\"ansiout\"><span class=\"ansired\">Out[</span><span class=\"ansired\">37</span><span class=\"ansired\">]: </span>&apos;feature_extraction_faturas_finalizado_com_sucesso&apos;\n",
       "</div>"
      ]
     },
     "metadata": {},
     "output_type": "display_data"
    }
   ],
   "source": [
    "dbutils.notebook.run(\"gerador_variaveis_faturas\", 3000, {\"idunidade_operacional\": unidade_operacional,\\\n",
    "                                                                        \"idcidade\": cidade,\\\n",
    "                                                                        \"periodo_inicial\": periodo_inicial,\\\n",
    "                                                                        \"periodo_final\": periodo_final})\n",
    "                                      "
   ]
  },
  {
   "cell_type": "code",
   "execution_count": 6,
   "metadata": {},
   "outputs": [
    {
     "data": {
      "text/html": [
       "<style scoped>\n",
       "  .ansiout {\n",
       "    display: block;\n",
       "    unicode-bidi: embed;\n",
       "    white-space: pre-wrap;\n",
       "    word-wrap: break-word;\n",
       "    word-break: break-all;\n",
       "    font-family: \"Source Code Pro\", \"Menlo\", monospace;;\n",
       "    font-size: 13px;\n",
       "    color: #555;\n",
       "    margin-left: 4px;\n",
       "    line-height: 19px;\n",
       "  }\n",
       "</style>\n",
       "<div class=\"ansiout\"><span class=\"ansired\">Out[</span><span class=\"ansired\">38</span><span class=\"ansired\">]: </span>&apos;feature_extraction_processos_finalizado_com_sucesso&apos;\n",
       "</div>"
      ]
     },
     "metadata": {},
     "output_type": "display_data"
    }
   ],
   "source": [
    "dbutils.notebook.run(\"gerador_variaveis_processos\", 3000, {\"idunidade_operacional\": unidade_operacional,\\\n",
    "                                                                            \"idcidade\": cidade,\\\n",
    "                                                                            \"t_objetivo\": objetivo})"
   ]
  },
  {
   "cell_type": "code",
   "execution_count": 7,
   "metadata": {},
   "outputs": [
    {
     "data": {
      "text/html": [
       "<style scoped>\n",
       "  .ansiout {\n",
       "    display: block;\n",
       "    unicode-bidi: embed;\n",
       "    white-space: pre-wrap;\n",
       "    word-wrap: break-word;\n",
       "    word-break: break-all;\n",
       "    font-family: \"Source Code Pro\", \"Menlo\", monospace;;\n",
       "    font-size: 13px;\n",
       "    color: #555;\n",
       "    margin-left: 4px;\n",
       "    line-height: 19px;\n",
       "  }\n",
       "</style>\n",
       "<div class=\"ansiout\"><span class=\"ansired\">Out[</span><span class=\"ansired\">39</span><span class=\"ansired\">]: </span>&apos;global_view_creator_finalizado_com_sucesso&apos;\n",
       "</div>"
      ]
     },
     "metadata": {},
     "output_type": "display_data"
    }
   ],
   "source": [
    "dbutils.notebook.run(\"gerador_views_genericas\", 500, {\"a_output\": \"cadastros\",\\\n",
    "                                                                    \"idunidade_operacional\": unidade_operacional,\n",
    "                                                                    \"idcidade\": cidade})"
   ]
  },
  {
   "cell_type": "markdown",
   "metadata": {},
   "source": [
    "## Montando base e Target"
   ]
  },
  {
   "cell_type": "code",
   "execution_count": 9,
   "metadata": {},
   "outputs": [
    {
     "data": {
      "text/html": [
       "<style scoped>\n",
       "  .ansiout {\n",
       "    display: block;\n",
       "    unicode-bidi: embed;\n",
       "    white-space: pre-wrap;\n",
       "    word-wrap: break-word;\n",
       "    word-break: break-all;\n",
       "    font-family: \"Source Code Pro\", \"Menlo\", monospace;;\n",
       "    font-size: 13px;\n",
       "    color: #555;\n",
       "    margin-left: 4px;\n",
       "    line-height: 19px;\n",
       "  }\n",
       "</style>\n",
       "<div class=\"ansiout\"></div>"
      ]
     },
     "metadata": {},
     "output_type": "display_data"
    }
   ],
   "source": [
    "def cria_target_e_join_base(b_faturas, b_processos, df_cad, t_modelo= \"m_self_cures\"):\n",
    "  \n",
    "  if (t_modelo == \"m_self_cures\"):\n",
    "    \n",
    "    nova_base = b_faturas.alias('faturas').join(b_processos.alias('processos'), \\\n",
    "                                                [b_faturas.cdc == b_processos.cdc_proc,\\\n",
    "                                                 b_faturas.fatura_id == b_processos.fatura_id_proc], 'INNER')\\\n",
    "                                         .select('faturas.*', 'processos.*')\n",
    "    \n",
    "    nova_base = nova_base.withColumn('target', when(col('data_pagamento_ou_parcelamento').isNotNull(),\\\n",
    "                                                   when(datediff(col('data_pagamento_ou_parcelamento'), col('data_apto_corte'))<=20,\\\n",
    "                                                        when(col('data_corte').isNull(), 'SELF_CURE'))\\\n",
    "                                                   .otherwise('NON_SELF_CURE'))\\\n",
    "                                              .otherwise(when(datediff(current_date(),col('data_apto_corte')) > 20, 'NON_SELF_CURE')))\n",
    "    \n",
    "    nova_base = nova_base.where(col('target').isNotNull())\n",
    "    \n",
    "    base_final = nova_base.alias('a').join(df_cad.alias('c'), nova_base.cdc == df_cad.cdc, 'LEFT')\\\n",
    "                                     .select('a.*', 'c.idcategoria','c.situacao_ligacao_id', 'c.tipo_faturamento_id',\\\n",
    "                                             'c.categorias', 'c.tipo_faturamento', 'c.classe_consumo').drop('debito_acumulado_ate_periodo')\n",
    "\n",
    "    \n",
    "    return base_final\n",
    " "
   ]
  },
  {
   "cell_type": "markdown",
   "metadata": {},
   "source": [
    "## Aplicando Filtros"
   ]
  },
  {
   "cell_type": "code",
   "execution_count": 11,
   "metadata": {},
   "outputs": [
    {
     "data": {
      "text/html": [
       "<style scoped>\n",
       "  .ansiout {\n",
       "    display: block;\n",
       "    unicode-bidi: embed;\n",
       "    white-space: pre-wrap;\n",
       "    word-wrap: break-word;\n",
       "    word-break: break-all;\n",
       "    font-family: \"Source Code Pro\", \"Menlo\", monospace;;\n",
       "    font-size: 13px;\n",
       "    color: #555;\n",
       "    margin-left: 4px;\n",
       "    line-height: 19px;\n",
       "  }\n",
       "</style>\n",
       "<div class=\"ansiout\"></div>"
      ]
     },
     "metadata": {},
     "output_type": "display_data"
    }
   ],
   "source": [
    "def aplica_filtros (base,  mod= \"modelo_selfcures\"):\n",
    "  \n",
    "  if (mod == \"modelo_selfcures\"):\n",
    "    dbutils.notebook.run(\"utilidades\", 500, {\"v_output\": \"codigos_tipo_faturamento\",\\\n",
    "                                                                      \"id_unidade_operacional\": dbutils.widgets.get(\"idunidade_operacional\"),\\\n",
    "                                                                      \"id_cidade\": dbutils.widgets.get(\"idcidade\")})\n",
    "    \n",
    "    dbutils.notebook.run(\"utilidades\", 500, {\"v_output\": \"codigos_categorias\",\\\n",
    "                                                                \"id_unidade_operacional\": dbutils.widgets.get(\"idunidade_operacional\"),\\\n",
    "                                                                \"id_cidade\": dbutils.widgets.get(\"idcidade\")})\n",
    "    \n",
    "    sqlContext.sql(\"refresh table transient.codigos_tipo_faturamento\")\n",
    "    sqlContext.sql(\"refresh table transient.codigos_categorias\")\n",
    "    \n",
    "    df_t_faturamento = spark.read.table('transient.codigos_tipo_faturamento')\n",
    "    df_categorias = spark.read.table('transient.codigos_categorias')\n",
    "    \n",
    "    lista_id_faturamento = list(set([row.idtipofaturamento for row in df_t_faturamento.collect()]))\n",
    "    lista_id_categorias =  list(set([row.idcategoria for row in df_categorias.collect()]))\n",
    "    \n",
    "    print(lista_id_faturamento)\n",
    "    print(lista_id_categorias)\n",
    "    \n",
    "    base_final = base.where((col('tipo_faturamento_id').isin(*lista_id_faturamento)) \\\n",
    "                            &(col('idcategoria').isin(lista_id_categorias)) \\\n",
    "                            & (col('situacao_ligacao_id') == 1)).drop('tipo_faturamento_id', 'idcategoria', 'situacao_ligacao_id')\n",
    "    \n",
    "    return base_final\n",
    " "
   ]
  },
  {
   "cell_type": "markdown",
   "metadata": {},
   "source": [
    "## Executor Principal"
   ]
  },
  {
   "cell_type": "code",
   "execution_count": 13,
   "metadata": {},
   "outputs": [
    {
     "data": {
      "text/html": [
       "<style scoped>\n",
       "  .ansiout {\n",
       "    display: block;\n",
       "    unicode-bidi: embed;\n",
       "    white-space: pre-wrap;\n",
       "    word-wrap: break-word;\n",
       "    word-break: break-all;\n",
       "    font-family: \"Source Code Pro\", \"Menlo\", monospace;;\n",
       "    font-size: 13px;\n",
       "    color: #555;\n",
       "    margin-left: 4px;\n",
       "    line-height: 19px;\n",
       "  }\n",
       "</style>\n",
       "<div class=\"ansiout\">[]\n",
       "[&apos;8&apos;, &apos;12&apos;, &apos;1&apos;, &apos;2&apos;, &apos;14&apos;, &apos;9&apos;, &apos;13&apos;]\n",
       "</div>"
      ]
     },
     "metadata": {},
     "output_type": "display_data"
    }
   ],
   "source": [
    "import logging\n",
    "\n",
    "logger = spark._jvm.org.apache.log4j.LogManager.getLogger('gerador_base')\n",
    "\n",
    "sqlContext.sql(\"refresh table transient.variaveis_faturas\")\n",
    "sqlContext.sql(\"refresh table transient.variaveis_processos\")\n",
    "sqlContext.sql(\"refresh table transient.cadastros_modelo\")\n",
    "\n",
    "b_faturas = spark.read.table('transient.variaveis_faturas')\n",
    "b_processos = spark.read.table('transient.variaveis_processos')\n",
    "b_cadastros = spark.read.table('transient.cadastros_modelo')\n",
    "\n",
    "df_variaveis_completas = cria_target_e_join_base(b_faturas, b_processos, b_cadastros)\n",
    "df_variaveis_completas1 = aplica_filtros(df_variaveis_completas)\n",
    "\n",
    "df_variaveis_completas1.write.saveAsTable(name= \"transient.base_treino_predicao\", mode = 'overwrite')\n",
    "#df_variaveis_completas.createOrReplaceGlobalTempView('base_treino_predicao')\n",
    "#dbutils.notebook.exit('gerador_base_finalizado_com_sucesso') "
   ]
  }
 ],
 "metadata": {
  "kernelspec": {
   "display_name": "",
   "name": ""
  },
  "language_info": {
   "name": ""
  },
  "name": "gerador_base_treino_predicao",
  "notebookId": 2891703411994989
 },
 "nbformat": 4,
 "nbformat_minor": 4
}
