{
 "cells": [
  {
   "cell_type": "code",
   "execution_count": 1,
   "metadata": {},
   "outputs": [
    {
     "data": {
      "text/html": [
       "<style scoped>\n",
       "  .ansiout {\n",
       "    display: block;\n",
       "    unicode-bidi: embed;\n",
       "    white-space: pre-wrap;\n",
       "    word-wrap: break-word;\n",
       "    word-break: break-all;\n",
       "    font-family: \"Source Code Pro\", \"Menlo\", monospace;;\n",
       "    font-size: 13px;\n",
       "    color: #555;\n",
       "    margin-left: 4px;\n",
       "    line-height: 19px;\n",
       "  }\n",
       "</style>\n",
       "<div class=\"ansiout\"></div>"
      ]
     },
     "metadata": {},
     "output_type": "display_data"
    }
   ],
   "source": [
    "from pyspark.sql.window import Window\n",
    "from pyspark.sql.types import LongType\n",
    "from pyspark.sql.types import *\n",
    "from pyspark.sql.functions import *\n",
    "from pyspark.sql.functions import countDistinct, row_number\n",
    "from pyspark.sql import SQLContext\n",
    "from datetime import datetime, timedelta\n",
    "from dateutil.relativedelta import relativedelta\n"
   ]
  },
  {
   "cell_type": "code",
   "execution_count": 2,
   "metadata": {},
   "outputs": [
    {
     "data": {
      "text/html": [
       "<style scoped>\n",
       "  .ansiout {\n",
       "    display: block;\n",
       "    unicode-bidi: embed;\n",
       "    white-space: pre-wrap;\n",
       "    word-wrap: break-word;\n",
       "    word-break: break-all;\n",
       "    font-family: \"Source Code Pro\", \"Menlo\", monospace;;\n",
       "    font-size: 13px;\n",
       "    color: #555;\n",
       "    margin-left: 4px;\n",
       "    line-height: 19px;\n",
       "  }\n",
       "</style>\n",
       "<div class=\"ansiout\"></div>"
      ]
     },
     "metadata": {},
     "output_type": "display_data"
    }
   ],
   "source": [
    "spark.conf.set(\"spark.databricks.io.cache.enabled\", \"true\")"
   ]
  },
  {
   "cell_type": "markdown",
   "metadata": {},
   "source": [
    "### Definição de Parâmetros"
   ]
  },
  {
   "cell_type": "code",
   "execution_count": 4,
   "metadata": {},
   "outputs": [
    {
     "data": {
      "text/html": [
       "<style scoped>\n",
       "  .ansiout {\n",
       "    display: block;\n",
       "    unicode-bidi: embed;\n",
       "    white-space: pre-wrap;\n",
       "    word-wrap: break-word;\n",
       "    word-break: break-all;\n",
       "    font-family: \"Source Code Pro\", \"Menlo\", monospace;;\n",
       "    font-size: 13px;\n",
       "    color: #555;\n",
       "    margin-left: 4px;\n",
       "    line-height: 19px;\n",
       "  }\n",
       "</style>\n",
       "<div class=\"ansiout\"></div>"
      ]
     },
     "metadata": {},
     "output_type": "display_data"
    }
   ],
   "source": [
    "dbutils.widgets.text(\"periodo_inicial\", '2017-01-01')\n",
    "dbutils.widgets.text(\"periodo_final\", '2019-07-15')\n",
    "dbutils.widgets.text(\"idunidade_operacional\", \"3\")\n",
    "dbutils.widgets.text(\"idcidade\", \"3\")"
   ]
  },
  {
   "cell_type": "markdown",
   "metadata": {},
   "source": [
    "### Leitura de Parâmetros"
   ]
  },
  {
   "cell_type": "code",
   "execution_count": 6,
   "metadata": {},
   "outputs": [
    {
     "data": {
      "text/html": [
       "<style scoped>\n",
       "  .ansiout {\n",
       "    display: block;\n",
       "    unicode-bidi: embed;\n",
       "    white-space: pre-wrap;\n",
       "    word-wrap: break-word;\n",
       "    word-break: break-all;\n",
       "    font-family: \"Source Code Pro\", \"Menlo\", monospace;;\n",
       "    font-size: 13px;\n",
       "    color: #555;\n",
       "    margin-left: 4px;\n",
       "    line-height: 19px;\n",
       "  }\n",
       "</style>\n",
       "<div class=\"ansiout\"><span class=\"ansired\">Out[</span><span class=\"ansired\">20</span><span class=\"ansired\">]: </span>DataFrame[key: string, value: string]\n",
       "</div>"
      ]
     },
     "metadata": {},
     "output_type": "display_data"
    }
   ],
   "source": [
    "sqlContext = SQLContext.getOrCreate(sc)\n",
    "sqlContext.sql(\"SET periodo_inicial = \" + dbutils.widgets.get(\"periodo_inicial\"))\n",
    "sqlContext.sql(\"SET periodo_final = \" + dbutils.widgets.get(\"periodo_final\"))\n",
    "unidade_operacional = dbutils.widgets.get(\"idunidade_operacional\")\n",
    "cidade = dbutils.widgets.get(\"idcidade\")"
   ]
  },
  {
   "cell_type": "code",
   "execution_count": 7,
   "metadata": {},
   "outputs": [
    {
     "data": {
      "text/html": [
       "<style scoped>\n",
       "  .ansiout {\n",
       "    display: block;\n",
       "    unicode-bidi: embed;\n",
       "    white-space: pre-wrap;\n",
       "    word-wrap: break-word;\n",
       "    word-break: break-all;\n",
       "    font-family: \"Source Code Pro\", \"Menlo\", monospace;;\n",
       "    font-size: 13px;\n",
       "    color: #555;\n",
       "    margin-left: 4px;\n",
       "    line-height: 19px;\n",
       "  }\n",
       "</style>\n",
       "<div class=\"ansiout\"></div>"
      ]
     },
     "metadata": {},
     "output_type": "display_data"
    }
   ],
   "source": [
    "ano_inicial = datetime.strptime(dbutils.widgets.get(\"periodo_inicial\"), \"%Y-%m-%d\").year\n",
    "ano_final = datetime.strptime(dbutils.widgets.get(\"periodo_final\"), \"%Y-%m-%d\").year\n",
    "mes_inicial = datetime.strptime(dbutils.widgets.get(\"periodo_inicial\"), \"%Y-%m-%d\").month\n",
    "mes_final = datetime.strptime(dbutils.widgets.get(\"periodo_final\"), \"%Y-%m-%d\").month"
   ]
  },
  {
   "cell_type": "code",
   "execution_count": 8,
   "metadata": {},
   "outputs": [
    {
     "data": {
      "text/html": [
       "<style scoped>\n",
       "  .ansiout {\n",
       "    display: block;\n",
       "    unicode-bidi: embed;\n",
       "    white-space: pre-wrap;\n",
       "    word-wrap: break-word;\n",
       "    word-break: break-all;\n",
       "    font-family: \"Source Code Pro\", \"Menlo\", monospace;;\n",
       "    font-size: 13px;\n",
       "    color: #555;\n",
       "    margin-left: 4px;\n",
       "    line-height: 19px;\n",
       "  }\n",
       "</style>\n",
       "<div class=\"ansiout\"><span class=\"ansired\">Out[</span><span class=\"ansired\">22</span><span class=\"ansired\">]: </span>DataFrame[key: string, value: string]\n",
       "</div>"
      ]
     },
     "metadata": {},
     "output_type": "display_data"
    }
   ],
   "source": [
    "sqlContext.sql(\"SET ano_incial = \" + str(ano_inicial))\n",
    "sqlContext.sql(\"SET ano_final = \" + str(ano_final))\n",
    "sqlContext.sql(\"SET mes_inicial = \" + str(mes_inicial))\n",
    "sqlContext.sql(\"SET mes_final = \" + str(mes_final))"
   ]
  },
  {
   "cell_type": "code",
   "execution_count": 9,
   "metadata": {},
   "outputs": [],
   "source": [
    "dbutils.notebook.run(\"utilidades\", 500, {\"id_unidade_operacional\": unidade_operacional, \"id_cidade\": cidade, \"v_output\": \"codigos_cidade_unidadeoperacional\"})"
   ]
  },
  {
   "cell_type": "markdown",
   "metadata": {},
   "source": [
    "### Set nomes de tabelas em formato de parâmetro hive"
   ]
  },
  {
   "cell_type": "code",
   "execution_count": 11,
   "metadata": {},
   "outputs": [
    {
     "data": {
      "text/html": [
       "<style scoped>\n",
       "  .ansiout {\n",
       "    display: block;\n",
       "    unicode-bidi: embed;\n",
       "    white-space: pre-wrap;\n",
       "    word-wrap: break-word;\n",
       "    word-break: break-all;\n",
       "    font-family: \"Source Code Pro\", \"Menlo\", monospace;;\n",
       "    font-size: 13px;\n",
       "    color: #555;\n",
       "    margin-left: 4px;\n",
       "    line-height: 19px;\n",
       "  }\n",
       "</style>\n",
       "<div class=\"ansiout\"><span class=\"ansired\">Out[</span><span class=\"ansired\">4</span><span class=\"ansired\">]: </span>DataFrame[key: string, value: string]\n",
       "</div>"
      ]
     },
     "metadata": {},
     "output_type": "display_data"
    }
   ],
   "source": [
    "n_unidade_cidade = spark.read.table('transient.kpis_codigos_cidade_unidadeoperacional')\n",
    "nome_uoperacional = n_unidade_cidade.collect()[0].unidadeoperacional.lower().split(\" \")[0]\n",
    "nome_cidade = n_unidade_cidade.collect()[0].cidade.lower().split(\" \")[0]\n",
    "\n",
    "nome_tabela_faturas = \"modelos_preditivos.kpi_\"+nome_uoperacional+\"_\"+nome_cidade+\"_faturas_\"\n",
    "nome_tabela_cortes = \"modelos_preditivos.kpi_\"+nome_uoperacional+\"_\"+nome_cidade+\"_cortes_\"\n",
    "nome_tabela_processos = \"modelos_preditivos.kpi_\"+nome_uoperacional+\"_\"+nome_cidade+\"_processos_\"\n",
    "nome_tabela_debito_recuperado_total = \"modelos_preditivos.kpi_\" + nome_uoperacional+\"_\"+nome_cidade+\"_debito_recuperado_total\"\n",
    "nome_tabela_media_debito_recuperado = \"modelos_preditivos.kpi_\"+ nome_uoperacional+\"_\"+nome_cidade+\"_media_cdc_debito_recuperado\"\n",
    "nome_tabela_debito_fato_gerador = \"modelos_preditivos.kpi_\"+ nome_uoperacional+\"_\"+nome_cidade+\"_info_debito_fato_gerador\"\n",
    "nome_tabela_recuperado_fato_gerador = \"modelos_preditivos.kpi_\"+nome_uoperacional+\"_\"+nome_cidade+\"_debito_recuperado_fato_gerador\"\n",
    "nome_tabela_media_fato_gerador = \"modelos_preditivos.kpi_\"+nome_uoperacional+\"_\"+nome_cidade+\"_media_cdc_debito_recuperado_fato_gerador\"\n",
    "nome_tabela_ate_1_fatura = \"modelos_preditivos.kpi_\"+nome_uoperacional+\"_\"+nome_cidade+\"_debito_recuperado_ate_1_faturas\"\n",
    "nome_tabela_2_3_fatura = \"modelos_preditivos.kpi_\"+nome_uoperacional+\"_\"+nome_cidade+\"_debito_recuperado_2_ate_3_faturas\"\n",
    "nome_tabela_4_6_fatura = \"modelos_preditivos.kpi_\"+nome_uoperacional+\"_\"+nome_cidade+\"_debito_recuperado_4_ate_6_faturas\"\n",
    "nome_tabela_7_12_fatura = \"modelos_preditivos.kpi_\"+nome_uoperacional+\"_\"+nome_cidade+\"_debito_recuperado_7_ate_12_faturas\"\n",
    "nome_tabela_12_mais_fatura = \"modelos_preditivos.kpi_\"+nome_uoperacional+\"_\"+nome_cidade+\"_debito_recuperado_mais_12_faturas\"\n",
    "\n",
    "sqlContext.sql(\"SET tabela_faturas = \" + nome_tabela_faturas)\n",
    "sqlContext.sql(\"SET tabela_cortes = \" + nome_tabela_cortes)\n",
    "sqlContext.sql(\"SET tabela_processos = \" + nome_tabela_processos)\n",
    "sqlContext.sql(\"SET tabela_debito_recuperado_total = \" + nome_tabela_debito_recuperado_total)\n",
    "sqlContext.sql(\"SET tabela_media_debito_recuperado = \" + nome_tabela_media_debito_recuperado)\n",
    "sqlContext.sql(\"SET tabela_debito_fato_gerador = \" + nome_tabela_debito_fato_gerador)\n",
    "sqlContext.sql(\"SET tabela_recuperado_fato_gerador = \" + nome_tabela_recuperado_fato_gerador)\n",
    "sqlContext.sql(\"SET tabela_media_fato_gerador = \" + nome_tabela_media_fato_gerador)\n",
    "sqlContext.sql(\"SET tabela_ate_1_fatura = \" + nome_tabela_ate_1_fatura)\n",
    "sqlContext.sql(\"SET tabela_2_3_fatura = \" + nome_tabela_2_3_fatura)\n",
    "sqlContext.sql(\"SET tabela_4_6_fatura = \" + nome_tabela_4_6_fatura)\n",
    "sqlContext.sql(\"SET tabela_7_12_fatura = \" + nome_tabela_7_12_fatura)\n",
    "sqlContext.sql(\"SET tabela_12_mais_fatura = \" + nome_tabela_12_mais_fatura)"
   ]
  },
  {
   "cell_type": "code",
   "execution_count": 12,
   "metadata": {},
   "outputs": [
    {
     "data": {
      "text/html": [
       "<style scoped>\n",
       "  .table-result-container {\n",
       "    max-height: 300px;\n",
       "    overflow: auto;\n",
       "  }\n",
       "  table, th, td {\n",
       "    border: 1px solid black;\n",
       "    border-collapse: collapse;\n",
       "  }\n",
       "  th, td {\n",
       "    padding: 5px;\n",
       "  }\n",
       "  th {\n",
       "    text-align: left;\n",
       "  }\n",
       "</style><div class='table-result-container'><table class='table-result'><thead style='background-color: white'><tr></tr></thead><tbody></tbody></table></div>"
      ]
     },
     "metadata": {},
     "output_type": "display_data"
    }
   ],
   "source": [
    "%sql\n",
    "CREATE OR REPLACE TEMP VIEW FATURAS_VENCIDAS AS\n",
    "select *\n",
    "from ${hiveconf:tabela_faturas}\n",
    "--modelos_preditivos.kpi_maua_maua_faturas_\n",
    "where (data_pagamento > data_vencimento)\n",
    "or (data_parcelamento > data_vencimento)\n",
    "or ((idfaturasituacao = 1) and (current_date > data_vencimento))"
   ]
  },
  {
   "cell_type": "code",
   "execution_count": 13,
   "metadata": {},
   "outputs": [
    {
     "data": {
      "text/html": [
       "<style scoped>\n",
       "  .table-result-container {\n",
       "    max-height: 300px;\n",
       "    overflow: auto;\n",
       "  }\n",
       "  table, th, td {\n",
       "    border: 1px solid black;\n",
       "    border-collapse: collapse;\n",
       "  }\n",
       "  th, td {\n",
       "    padding: 5px;\n",
       "  }\n",
       "  th {\n",
       "    text-align: left;\n",
       "  }\n",
       "</style><div class='table-result-container'><table class='table-result'><thead style='background-color: white'><tr></tr></thead><tbody></tbody></table></div>"
      ]
     },
     "metadata": {},
     "output_type": "display_data"
    }
   ],
   "source": [
    "%sql\n",
    "CREATE OR REPLACE TEMP VIEW ORDENS_CORTE_EXECUTADAS AS\n",
    "select * \n",
    "from ${hiveconf:tabela_cortes} \n",
    "-- modelos_preditivos.kpi_maua_maua_cortes_\n",
    "where not datahoraterminoexecucao is null"
   ]
  },
  {
   "cell_type": "code",
   "execution_count": 14,
   "metadata": {},
   "outputs": [
    {
     "data": {
      "text/html": [
       "<style scoped>\n",
       "  .table-result-container {\n",
       "    max-height: 300px;\n",
       "    overflow: auto;\n",
       "  }\n",
       "  table, th, td {\n",
       "    border: 1px solid black;\n",
       "    border-collapse: collapse;\n",
       "  }\n",
       "  th, td {\n",
       "    padding: 5px;\n",
       "  }\n",
       "  th {\n",
       "    text-align: left;\n",
       "  }\n",
       "</style><div class='table-result-container'><table class='table-result'><thead style='background-color: white'><tr></tr></thead><tbody></tbody></table></div>"
      ]
     },
     "metadata": {},
     "output_type": "display_data"
    }
   ],
   "source": [
    "%sql\n",
    "CREATE OR REPLACE TEMP VIEW FATURAS_CORTES AS\n",
    "select t2.*\n",
    "from (\n",
    "      select t1.*,\n",
    "      max(t1.datahoraabertura) over (partition by cdc, fatura_id) as data_abertura_corte_fatura\n",
    "      from (\n",
    "            select f.*, os.idos, os.idosdetalhe, os.STATUSORDEMSERVICO, TO_DATE(CAST(os.datahoraabertura as timestamp)) as datahoraabertura,\n",
    "            TO_DATE(CAST(os.datahoraterminoexecucao AS timestamp)) as datahoraterminoexecucao\n",
    "            from FATURAS_VENCIDAS f\n",
    "            left join ORDENS_CORTE_EXECUTADAS os\n",
    "            on f.cdc = os.idligacao\n",
    "            and f.data_vencimento < os.DATAHORAABERTURA\n",
    "            and ((f.data_pagamento > os.datahoraterminoexecucao) \n",
    "                 or(f.data_parcelamento > os.datahoraterminoexecucao)\n",
    "                 or((f.idfaturasituacao = 1) and (current_date > os.datahoraterminoexecucao)))) t1) t2\n",
    "where t2.datahoraabertura = t2.data_abertura_corte_fatura\n",
    "and not t2.datahoraabertura is null\n",
    "and not t2.datahoraterminoexecucao is null"
   ]
  },
  {
   "cell_type": "code",
   "execution_count": 15,
   "metadata": {},
   "outputs": [
    {
     "data": {
      "text/html": [
       "<style scoped>\n",
       "  .table-result-container {\n",
       "    max-height: 300px;\n",
       "    overflow: auto;\n",
       "  }\n",
       "  table, th, td {\n",
       "    border: 1px solid black;\n",
       "    border-collapse: collapse;\n",
       "  }\n",
       "  th, td {\n",
       "    padding: 5px;\n",
       "  }\n",
       "  th {\n",
       "    text-align: left;\n",
       "  }\n",
       "</style><div class='table-result-container'><table class='table-result'><thead style='background-color: white'><tr></tr></thead><tbody></tbody></table></div>"
      ]
     },
     "metadata": {},
     "output_type": "display_data"
    }
   ],
   "source": [
    "%sql\n",
    "drop table if exists ${hiveconf:tabela_debito_recuperado_total} \n",
    ";\n",
    "create table ${hiveconf:tabela_debito_recuperado_total}  as \n",
    "select \n",
    "t1.ano_corte, t1.mes_corte,\n",
    "sum(case when t1.dias_entre_vencimento_e_corte <90 then t1.valor else 0 end) total_debito_cortado,\n",
    "sum(case when (t1.dias_entre_vencimento_e_corte <90) and (t1.dias_entre_pagamento_e_corte > 0) and (t1.dias_entre_pagamento_e_corte <=30) then t1.valor else 0 end) as debito_recuperado \n",
    "from (\n",
    "      select fc.*, \n",
    "      year(fc.datahoraterminoexecucao) as ano_corte, \n",
    "      month(fc.datahoraterminoexecucao) as mes_corte,\n",
    "      datediff(fc.data_pagamento, fc.datahoraterminoexecucao) as dias_entre_pagamento_e_corte,\n",
    "      datediff(fc.datahoraterminoexecucao, fc.data_vencimento) as dias_entre_vencimento_e_corte\n",
    "      from FATURAS_CORTES fc) t1\n",
    "where t1.datahoraterminoexecucao >= \"${hiveconf:periodo_inicial}\" \n",
    "and t1.datahoraterminoexecucao <= \"${hiveconf:periodo_final}\"\n",
    "group by t1.ano_corte, t1.mes_corte\n",
    "order by t1.ano_corte, t1.mes_corte"
   ]
  },
  {
   "cell_type": "code",
   "execution_count": 16,
   "metadata": {},
   "outputs": [
    {
     "data": {
      "text/html": [
       "<style scoped>\n",
       "  .table-result-container {\n",
       "    max-height: 300px;\n",
       "    overflow: auto;\n",
       "  }\n",
       "  table, th, td {\n",
       "    border: 1px solid black;\n",
       "    border-collapse: collapse;\n",
       "  }\n",
       "  th, td {\n",
       "    padding: 5px;\n",
       "  }\n",
       "  th {\n",
       "    text-align: left;\n",
       "  }\n",
       "</style><div class='table-result-container'><table class='table-result'><thead style='background-color: white'><tr></tr></thead><tbody></tbody></table></div>"
      ]
     },
     "metadata": {},
     "output_type": "display_data"
    }
   ],
   "source": [
    "%sql\n",
    "CREATE OR REPLACE TEMP VIEW TOTAL_CORTADOS_VISAO_MENSAL AS\n",
    "select\n",
    "t1.ano_corte, t1.mes_corte,\n",
    "count (distinct case when t1.dias_entre_vencimento_e_corte <90 then t1.cdc else null end) as total_cortados\n",
    "from (\n",
    "      select fc.*, \n",
    "      year(fc.datahoraterminoexecucao) as ano_corte, \n",
    "      month(fc.datahoraterminoexecucao) as mes_corte,\n",
    "      datediff(fc.data_pagamento, fc.datahoraterminoexecucao) as dias_entre_pagamento_e_corte,\n",
    "      datediff(fc.datahoraterminoexecucao, fc.data_vencimento) as dias_entre_vencimento_e_corte\n",
    "      from FATURAS_CORTES fc) t1\n",
    "where t1.datahoraterminoexecucao >= \"${hiveconf:periodo_inicial}\" \n",
    "and t1.datahoraterminoexecucao <= \"${hiveconf:periodo_final}\"\n",
    "group by t1.ano_corte, t1.mes_corte\n",
    "order by t1.ano_corte, t1.mes_corte"
   ]
  },
  {
   "cell_type": "code",
   "execution_count": 17,
   "metadata": {},
   "outputs": [
    {
     "data": {
      "text/html": [
       "<style scoped>\n",
       "  .table-result-container {\n",
       "    max-height: 300px;\n",
       "    overflow: auto;\n",
       "  }\n",
       "  table, th, td {\n",
       "    border: 1px solid black;\n",
       "    border-collapse: collapse;\n",
       "  }\n",
       "  th, td {\n",
       "    padding: 5px;\n",
       "  }\n",
       "  th {\n",
       "    text-align: left;\n",
       "  }\n",
       "</style><div class='table-result-container'><table class='table-result'><thead style='background-color: white'><tr></tr></thead><tbody></tbody></table></div>"
      ]
     },
     "metadata": {},
     "output_type": "display_data"
    }
   ],
   "source": [
    "%sql\n",
    "drop table if exists ${hiveconf:tabela_media_debito_recuperado}\n",
    ";\n",
    "create table ${hiveconf:tabela_media_debito_recuperado} as \n",
    "select\n",
    "t1.ano_corte,\n",
    "t1.mes_corte,\n",
    "t1.media_cortado_por_cdc,\n",
    "t1.media_recuperado_por_cdc\n",
    "from (\n",
    "      select dr.ano_corte,\n",
    "            dr.mes_corte,\n",
    "            dr.total_debito_cortado, \n",
    "            dr.debito_recuperado, c.total_cortados,\n",
    "            dr.total_debito_cortado/c.total_cortados as media_cortado_por_cdc,\n",
    "            dr.debito_recuperado/c.total_cortados as media_recuperado_por_cdc\n",
    "      from ${hiveconf:tabela_debito_recuperado_total}  dr\n",
    "      left join TOTAL_CORTADOS_VISAO_MENSAL c\n",
    "      on dr.ano_corte = c.ano_corte\n",
    "      and dr.mes_corte = c.mes_corte\n",
    "      order by dr.ano_corte, dr.mes_corte) t1"
   ]
  },
  {
   "cell_type": "code",
   "execution_count": 18,
   "metadata": {},
   "outputs": [
    {
     "data": {
      "text/html": [
       "<style scoped>\n",
       "  .table-result-container {\n",
       "    max-height: 300px;\n",
       "    overflow: auto;\n",
       "  }\n",
       "  table, th, td {\n",
       "    border: 1px solid black;\n",
       "    border-collapse: collapse;\n",
       "  }\n",
       "  th, td {\n",
       "    padding: 5px;\n",
       "  }\n",
       "  th {\n",
       "    text-align: left;\n",
       "  }\n",
       "</style><div class='table-result-container'><table class='table-result'><thead style='background-color: white'><tr></tr></thead><tbody></tbody></table></div>"
      ]
     },
     "metadata": {},
     "output_type": "display_data"
    }
   ],
   "source": [
    "%sql\n",
    "CREATE OR REPLACE TEMP VIEW FATURAS_CORTE_NOTIFICACOES AS\n",
    "select distinct t2.*, count(fatura_id) over (partition by t2.idos, t2.idosdetalhe) as total_faturas_corte,\n",
    "datediff(t2.datahoraterminoexecucao, t2.NOTIFICACAO_MAIS_RECENTE) as dias_entre_notificacao_e_abert\n",
    "\n",
    "from (\n",
    "      select t1.*, max(t1.DATA_NOTIFICACAO) over (partition by t1.fatura_id, t1.cdc) as NOTIFICACAO_MAIS_RECENTE\n",
    "      \n",
    "      from  (\n",
    "              select fc.*,\n",
    "                     p.id_proc,\n",
    "                     to_date(p.datarealentreganotificacao, 'yyyyMMdd') DATA_NOTIFICACAO,\n",
    "                     p.proc_periodo,\n",
    "                     p.statusligacaoprocesso STATUS_PROCESSO,\n",
    "                     p.datarealentreganotificacao,\n",
    "                     year(fc.datahoraterminoexecucao) as ano_corte, \n",
    "                     month(fc.datahoraterminoexecucao) as mes_corte,\n",
    "                     datediff(fc.data_pagamento, fc.datahoraterminoexecucao) as dias_entre_pagamento_e_corte,\n",
    "                     datediff(fc.datahoraterminoexecucao, fc.data_vencimento) as dias_entre_vencimento_e_corte\n",
    "                     \n",
    "              from FATURAS_CORTES fc\n",
    "              left join  ${hiveconf:tabela_processos} p\n",
    "              --left join modelos_preditivos.kpi_maua_maua_processos_ p\n",
    "              on fc.fatura_id = p.id_fatura_fat_proc\n",
    "              and fc.cdc = p.cdc_proc_lig\n",
    "              and p.statusligacaoprocesso != 'C'\n",
    "              ) t1\n",
    "    )t2\n",
    "where (t2.DATA_NOTIFICACAO = t2.NOTIFICACAO_MAIS_RECENTE)"
   ]
  },
  {
   "cell_type": "code",
   "execution_count": 19,
   "metadata": {},
   "outputs": [
    {
     "data": {
      "text/html": [
       "<style scoped>\n",
       "  .table-result-container {\n",
       "    max-height: 300px;\n",
       "    overflow: auto;\n",
       "  }\n",
       "  table, th, td {\n",
       "    border: 1px solid black;\n",
       "    border-collapse: collapse;\n",
       "  }\n",
       "  th, td {\n",
       "    padding: 5px;\n",
       "  }\n",
       "  th {\n",
       "    text-align: left;\n",
       "  }\n",
       "</style><div class='table-result-container'><table class='table-result'><thead style='background-color: white'><tr></tr></thead><tbody></tbody></table></div>"
      ]
     },
     "metadata": {},
     "output_type": "display_data"
    }
   ],
   "source": [
    "%sql\n",
    "drop table if exists ${hiveconf:tabela_debito_fato_gerador} \n",
    ";\n",
    "create table ${hiveconf:tabela_debito_fato_gerador}  as\n",
    "select\n",
    "ano_corte,\n",
    "mes_corte,\n",
    "count (distinct case when (dias_entre_vencimento_e_corte > 60) then cdc else null end) total_cdc_cortados_fato_gerador,\n",
    "\n",
    "count (distinct case when (dias_entre_pagamento_e_corte > 0)\n",
    "           and (dias_entre_pagamento_e_corte <= 30) \n",
    "           and (dias_entre_vencimento_e_corte > 60) then cdc else null end) as total_cdc_recuperados_fato_gerador,\n",
    "           \n",
    "sum (case when (dias_entre_vencimento_e_corte > 60) then valor else 0 end) as debito_fato_gerador_ate_corte,\n",
    "\n",
    "sum (case when (dias_entre_pagamento_e_corte > 0)\n",
    "           and (dias_entre_pagamento_e_corte <= 30) \n",
    "           and (dias_entre_vencimento_e_corte > 60) then valor else 0 end) as debito_fato_gerador_recuperado\n",
    "           \n",
    "from FATURAS_CORTE_NOTIFICACOES \n",
    "where ano_corte >= \"${hiveconf:ano_incial}\"\n",
    "group by ano_corte, mes_corte"
   ]
  },
  {
   "cell_type": "code",
   "execution_count": 20,
   "metadata": {},
   "outputs": [
    {
     "data": {
      "text/html": [
       "<style scoped>\n",
       "  .table-result-container {\n",
       "    max-height: 300px;\n",
       "    overflow: auto;\n",
       "  }\n",
       "  table, th, td {\n",
       "    border: 1px solid black;\n",
       "    border-collapse: collapse;\n",
       "  }\n",
       "  th, td {\n",
       "    padding: 5px;\n",
       "  }\n",
       "  th {\n",
       "    text-align: left;\n",
       "  }\n",
       "</style><div class='table-result-container'><table class='table-result'><thead style='background-color: white'><tr></tr></thead><tbody></tbody></table></div>"
      ]
     },
     "metadata": {},
     "output_type": "display_data"
    }
   ],
   "source": [
    "%sql\n",
    "drop table if exists ${hiveconf:tabela_recuperado_fato_gerador}\n",
    ";\n",
    "create table ${hiveconf:tabela_recuperado_fato_gerador} as\n",
    "select \n",
    "ano_corte,\n",
    "mes_corte,\n",
    "debito_fato_gerador_ate_corte,\n",
    "debito_fato_gerador_recuperado\n",
    "from ${hiveconf:tabela_debito_fato_gerador}\n",
    "where ano_corte >= \"${hiveconf:ano_incial}\"\n",
    "and  (not (ano_corte = \"${hiveconf:ano_final}\" and mes_corte > \"${hiveconf:mes_final}\"))"
   ]
  },
  {
   "cell_type": "code",
   "execution_count": 21,
   "metadata": {},
   "outputs": [
    {
     "data": {
      "text/html": [
       "<style scoped>\n",
       "  .table-result-container {\n",
       "    max-height: 300px;\n",
       "    overflow: auto;\n",
       "  }\n",
       "  table, th, td {\n",
       "    border: 1px solid black;\n",
       "    border-collapse: collapse;\n",
       "  }\n",
       "  th, td {\n",
       "    padding: 5px;\n",
       "  }\n",
       "  th {\n",
       "    text-align: left;\n",
       "  }\n",
       "</style><div class='table-result-container'><table class='table-result'><thead style='background-color: white'><tr></tr></thead><tbody></tbody></table></div>"
      ]
     },
     "metadata": {},
     "output_type": "display_data"
    }
   ],
   "source": [
    "%sql\n",
    "drop table if exists ${hiveconf:tabela_media_fato_gerador}\n",
    ";\n",
    "create table ${hiveconf:tabela_media_fato_gerador} as \n",
    " select \n",
    "      ano_corte,\n",
    "      mes_corte,\n",
    "      debito_fato_gerador_ate_corte/total_cdc_cortados_fato_gerador as media_cdc_fato_gerador_cortado,\n",
    "      debito_fato_gerador_recuperado/total_cdc_recuperados_fato_gerador as media_cdc_fato_gerador_recuperado\n",
    "from ${hiveconf:tabela_debito_fato_gerador}\n",
    "where ano_corte >= \"${hiveconf:ano_incial}\"\n",
    "and  (not (ano_corte = \"${hiveconf:ano_final}\" and mes_corte > \"${hiveconf:mes_final}\"))"
   ]
  },
  {
   "cell_type": "code",
   "execution_count": 22,
   "metadata": {},
   "outputs": [
    {
     "data": {
      "text/html": [
       "<style scoped>\n",
       "  .table-result-container {\n",
       "    max-height: 300px;\n",
       "    overflow: auto;\n",
       "  }\n",
       "  table, th, td {\n",
       "    border: 1px solid black;\n",
       "    border-collapse: collapse;\n",
       "  }\n",
       "  th, td {\n",
       "    padding: 5px;\n",
       "  }\n",
       "  th {\n",
       "    text-align: left;\n",
       "  }\n",
       "</style><div class='table-result-container'><table class='table-result'><thead style='background-color: white'><tr></tr></thead><tbody></tbody></table></div>"
      ]
     },
     "metadata": {},
     "output_type": "display_data"
    }
   ],
   "source": [
    "%sql\n",
    "drop table if exists ${hiveconf:tabela_ate_1_fatura}\n",
    ";\n",
    "create table ${hiveconf:tabela_ate_1_fatura} as \n",
    "select\n",
    "ano_corte,\n",
    "mes_corte,\n",
    "sum (case when (total_faturas_corte =1) and (dias_entre_vencimento_e_corte <90) then valor else 0 end) as debito_cortado_ate_1_faturas,\n",
    "sum (case when (dias_entre_pagamento_e_corte > 0)\n",
    "           and (dias_entre_vencimento_e_corte <90)\n",
    "           and (dias_entre_pagamento_e_corte <= 30) \n",
    "           and (total_faturas_corte =1) then valor else 0 end) as debito_recuperado_ate_1_faturas\n",
    "from FATURAS_CORTE_NOTIFICACOES \n",
    "where ano_corte >= \"${hiveconf:ano_incial}\"\n",
    "and (not (ano_corte = \"${hiveconf:ano_final}\" and mes_corte > \"${hiveconf:mes_final}\"))\n",
    "group by ano_corte, mes_corte"
   ]
  },
  {
   "cell_type": "code",
   "execution_count": 23,
   "metadata": {},
   "outputs": [
    {
     "data": {
      "text/html": [
       "<style scoped>\n",
       "  .table-result-container {\n",
       "    max-height: 300px;\n",
       "    overflow: auto;\n",
       "  }\n",
       "  table, th, td {\n",
       "    border: 1px solid black;\n",
       "    border-collapse: collapse;\n",
       "  }\n",
       "  th, td {\n",
       "    padding: 5px;\n",
       "  }\n",
       "  th {\n",
       "    text-align: left;\n",
       "  }\n",
       "</style><div class='table-result-container'><table class='table-result'><thead style='background-color: white'><tr></tr></thead><tbody></tbody></table></div>"
      ]
     },
     "metadata": {},
     "output_type": "display_data"
    }
   ],
   "source": [
    "%sql\n",
    "drop table if exists ${hiveconf:tabela_2_3_fatura}\n",
    ";\n",
    "create table ${hiveconf:tabela_2_3_fatura} as \n",
    "select\n",
    "ano_corte,\n",
    "mes_corte,\n",
    "sum (case when (total_faturas_corte>=2 and total_faturas_corte <=3) and (dias_entre_vencimento_e_corte <90) then valor else 0 end) as debito_cortado_2_ate_3_faturas,\n",
    "sum (case when (dias_entre_pagamento_e_corte > 0)\n",
    "           and (dias_entre_vencimento_e_corte <90)\n",
    "           and (dias_entre_pagamento_e_corte <= 30) \n",
    "           and (total_faturas_corte >=2)\n",
    "           and (total_faturas_corte <=3)\n",
    "           then valor else 0 end) as debito_recuperado_2_ate_3_faturas\n",
    "from FATURAS_CORTE_NOTIFICACOES \n",
    "where ano_corte>= \"${hiveconf:ano_incial}\"\n",
    "and (not(ano_corte = \"${hiveconf:ano_final}\" and mes_corte > \"${hiveconf:mes_final}\"))\n",
    "group by ano_corte, mes_corte"
   ]
  },
  {
   "cell_type": "code",
   "execution_count": 24,
   "metadata": {},
   "outputs": [
    {
     "data": {
      "text/html": [
       "<style scoped>\n",
       "  .table-result-container {\n",
       "    max-height: 300px;\n",
       "    overflow: auto;\n",
       "  }\n",
       "  table, th, td {\n",
       "    border: 1px solid black;\n",
       "    border-collapse: collapse;\n",
       "  }\n",
       "  th, td {\n",
       "    padding: 5px;\n",
       "  }\n",
       "  th {\n",
       "    text-align: left;\n",
       "  }\n",
       "</style><div class='table-result-container'><table class='table-result'><thead style='background-color: white'><tr></tr></thead><tbody></tbody></table></div>"
      ]
     },
     "metadata": {},
     "output_type": "display_data"
    }
   ],
   "source": [
    "%sql\n",
    "drop table if exists ${hiveconf:tabela_4_6_fatura}\n",
    ";\n",
    "create table ${hiveconf:tabela_4_6_fatura} as \n",
    "select\n",
    "ano_corte,\n",
    "mes_corte,\n",
    "sum (case when (total_faturas_corte>=4 and total_faturas_corte <=6) and (dias_entre_vencimento_e_corte <90) then valor else 0 end) as debito_cortado_4_ate_6_faturas,\n",
    "sum (case when (dias_entre_pagamento_e_corte > 0)\n",
    "           and (dias_entre_vencimento_e_corte <90)\n",
    "           and (dias_entre_pagamento_e_corte <= 30) \n",
    "           and (total_faturas_corte >=4)\n",
    "           and (total_faturas_corte <=6) then valor else 0 end) as debito_recuperado_4_ate_6_faturas\n",
    "from FATURAS_CORTE_NOTIFICACOES \n",
    "where ano_corte >= \"${hiveconf:ano_incial}\"\n",
    "and (not(ano_corte = \"${hiveconf:ano_final}\" and mes_corte > \"${hiveconf:mes_final}\"))\n",
    "group by ano_corte, mes_corte"
   ]
  },
  {
   "cell_type": "code",
   "execution_count": 25,
   "metadata": {},
   "outputs": [
    {
     "data": {
      "text/html": [
       "<style scoped>\n",
       "  .table-result-container {\n",
       "    max-height: 300px;\n",
       "    overflow: auto;\n",
       "  }\n",
       "  table, th, td {\n",
       "    border: 1px solid black;\n",
       "    border-collapse: collapse;\n",
       "  }\n",
       "  th, td {\n",
       "    padding: 5px;\n",
       "  }\n",
       "  th {\n",
       "    text-align: left;\n",
       "  }\n",
       "</style><div class='table-result-container'><table class='table-result'><thead style='background-color: white'><tr></tr></thead><tbody></tbody></table></div>"
      ]
     },
     "metadata": {},
     "output_type": "display_data"
    }
   ],
   "source": [
    "%sql\n",
    "drop table if exists ${hiveconf:tabela_7_12_fatura}\n",
    ";\n",
    "create table ${hiveconf:tabela_7_12_fatura} as \n",
    "select\n",
    "ano_corte,\n",
    "mes_corte,\n",
    "sum (case when (total_faturas_corte>=7 and total_faturas_corte<=12) and (dias_entre_vencimento_e_corte <90) then valor else 0 end) as debito_cortado_7_ate_12_faturas,\n",
    "sum (case when (dias_entre_pagamento_e_corte > 0)\n",
    "           and (dias_entre_vencimento_e_corte <90)\n",
    "           and (dias_entre_pagamento_e_corte <= 30) \n",
    "           and (total_faturas_corte >=7)\n",
    "           and (total_faturas_corte <=12) then valor else 0 end) as debito_recuperado_7_ate_12_faturas\n",
    "from FATURAS_CORTE_NOTIFICACOES \n",
    "where ano_corte >= \"${hiveconf:ano_incial}\"\n",
    "and (not(ano_corte = \"${hiveconf:ano_final}\" and mes_corte > \"${hiveconf:mes_final}\"))\n",
    "group by ano_corte, mes_corte"
   ]
  },
  {
   "cell_type": "code",
   "execution_count": 26,
   "metadata": {},
   "outputs": [
    {
     "data": {
      "text/html": [
       "<style scoped>\n",
       "  .table-result-container {\n",
       "    max-height: 300px;\n",
       "    overflow: auto;\n",
       "  }\n",
       "  table, th, td {\n",
       "    border: 1px solid black;\n",
       "    border-collapse: collapse;\n",
       "  }\n",
       "  th, td {\n",
       "    padding: 5px;\n",
       "  }\n",
       "  th {\n",
       "    text-align: left;\n",
       "  }\n",
       "</style><div class='table-result-container'><table class='table-result'><thead style='background-color: white'><tr></tr></thead><tbody></tbody></table></div>"
      ]
     },
     "metadata": {},
     "output_type": "display_data"
    }
   ],
   "source": [
    "%sql\n",
    "drop table if exists ${hiveconf:tabela_12_mais_fatura}\n",
    ";\n",
    "create table ${hiveconf:tabela_12_mais_fatura} as \n",
    "select\n",
    "ano_corte,\n",
    "mes_corte,\n",
    "sum (case when (total_faturas_corte >=13) and (dias_entre_vencimento_e_corte <90) then valor else 0 end) as debito_cortado_mais_de_12_faturas,\n",
    "sum (case when (dias_entre_pagamento_e_corte > 0)\n",
    "           and (dias_entre_vencimento_e_corte <90)\n",
    "           and (dias_entre_pagamento_e_corte <= 30) \n",
    "           and (total_faturas_corte >=13) then valor else 0 end) as debito_recuperado_mais_de_12_faturas\n",
    "from FATURAS_CORTE_NOTIFICACOES \n",
    "where ano_corte >= \"${hiveconf:ano_incial}\"\n",
    "and (not(ano_corte = \"${hiveconf:ano_final}\" and mes_corte > \"${hiveconf:mes_final}\"))\n",
    "group by ano_corte, mes_corte"
   ]
  }
 ],
 "metadata": {
  "kernelspec": {
   "display_name": "",
   "name": ""
  },
  "language_info": {
   "name": ""
  },
  "name": "debito_recuperado_geral_fatogerador_e_ate_n_faturas",
  "notebookId": 2748700984678731
 },
 "nbformat": 4,
 "nbformat_minor": 4
}
